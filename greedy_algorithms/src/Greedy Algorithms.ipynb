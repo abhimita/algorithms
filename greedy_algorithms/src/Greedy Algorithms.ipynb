{
 "cells": [
  {
   "cell_type": "markdown",
   "metadata": {},
   "source": [
    "# <center>Greedy Algorithms<center>"
   ]
  },
  {
   "cell_type": "markdown",
   "metadata": {},
   "source": [
    "Following are the exercises listed under `Greedy Algorithm` chapter of edX course on `Algorithmic Design and Techniques`. \n",
    "\n",
    "## Money change\n",
    "\n",
    "### Task:\n",
    "The goal in this problem is to find the minimum number of coins needed to change the input value(an integer) into coins with denominations 1, 5, and 10.\n",
    "### Input Format.\n",
    "The input consists of a single integer m.\n",
    "### Constraints\n",
    "$1 \\leq m \\leq 10^3$\n",
    "### Output Format.\n",
    "Output the minimum number of coins with denominations1,5,10 that changes m.\n",
    "### Sample 1\n",
    "#### Input: 2\n",
    "#### Output: 2\n",
    "Made of coins 1 + 1\n",
    "### Sample 2\n",
    "#### Input: 28\n",
    "#### Output: 6\n",
    "Made of coins 10 + 10 + 5 + 1 + 1 + 1"
   ]
  },
  {
   "cell_type": "code",
   "execution_count": 57,
   "metadata": {},
   "outputs": [],
   "source": [
    "import sys\n",
    "import unittest\n",
    "import random\n",
    "from collections import namedtuple"
   ]
  },
  {
   "cell_type": "code",
   "execution_count": 58,
   "metadata": {},
   "outputs": [],
   "source": [
    "coin_denominations = [1, 5, 10]\n",
    "def get_change(m):\n",
    "    # Start using the coin of maximum denomination\n",
    "    coin_denominations.sort(reverse=True)\n",
    "    number_of_coins = [0] * len(coin_denominations)\n",
    "    index = 0\n",
    "    while m > 0 and index <= len(coin_denominations):\n",
    "        count = m // coin_denominations[index]\n",
    "        number_of_coins[index] = count\n",
    "        m -= (count * coin_denominations[index])\n",
    "        index += 1\n",
    "    return number_of_coins"
   ]
  },
  {
   "cell_type": "code",
   "execution_count": 59,
   "metadata": {},
   "outputs": [
    {
     "name": "stdout",
     "output_type": "stream",
     "text": [
      "Coin change for 28\n",
      "Count of denomination 10 = 2\n",
      "Count of denomination 5 = 1\n",
      "Count of denomination 1 = 3\n"
     ]
    }
   ],
   "source": [
    "total_value = 28\n",
    "print(\"Coin change for %d\" % total_value)\n",
    "print('\\n'.join([\"Count of denomination %d = %d\" % (x[0], x[1]) for x in zip(coin_denominations,get_change(28))]))"
   ]
  },
  {
   "cell_type": "code",
   "execution_count": 60,
   "metadata": {},
   "outputs": [
    {
     "name": "stdout",
     "output_type": "stream",
     "text": [
      "Coin change for 55\n",
      "Count of denomination 10 = 5\n",
      "Count of denomination 5 = 1\n",
      "Count of denomination 1 = 0\n"
     ]
    }
   ],
   "source": [
    "total_value = 55\n",
    "print(\"Coin change for %d\" % total_value)\n",
    "print('\\n'.join([\"Count of denomination %d = %d\" % (x[0], x[1]) for x in zip(coin_denominations,get_change(55))]))"
   ]
  },
  {
   "cell_type": "markdown",
   "metadata": {},
   "source": [
    "## Maximum value of the loot (Fractional Knapsack)\n",
    "\n",
    "A thief finds much more loot than his bag can fit. Help him to find the most valuable combination of items assuming that any fraction of a loot item can be put into his bag.\n",
    "\n",
    "### Problem Description\n",
    "### Task.\n",
    "The goal of this code problem is to implement an algorithm for the fractional knapsack problem.\n",
    "#### Input Format.\n",
    "The first line of the input contains the number n of items and the capacity W of a knapsack.The next n lines define the values and weights of the items. The i-th line contains integers $v_i$ and $w_i$ — the value and the weight of i-th item, respectively.\n",
    "#### Constraints.\n",
    "$1 \\leq n \\leq 10^3, 0 \\leq W \\leq 2·10^6; 0 \\leq v_i \\leq 2·10^6, 0 \\le w_i \\leq 2·10^6$ for all $1 \\leq i \\leq n$. All the numbers are integers.\n",
    "#### Output Format.\n",
    "Output the maximal value of fractions of items that fit into the knapsack. The absolute value of the difference between the answer of your program and the optimal value should be at most10−3. To ensure this, output your answer with at least four digits after the decimal point (otherwiseyour answer, while being computed correctly, can turn out to be wrong because of rounding issues)."
   ]
  },
  {
   "cell_type": "markdown",
   "metadata": {},
   "source": [
    "The key to solve fractional knapsack problem using greedy method is to compute value per unit weight for each item and then use that metric to order the items. "
   ]
  },
  {
   "cell_type": "code",
   "execution_count": 61,
   "metadata": {},
   "outputs": [],
   "source": [
    "def fraction_knapsack(capacity, weights, values):\n",
    "    # List of tuples containing (value per unit weight, weight, value, calculated knapsack fraction, original index of item)\n",
    "    # Calculated Knapsack fraction is initialized to 0.0\n",
    "    results = [\n",
    "        x for x in zip(\n",
    "            [values[i] / weights[i] for i in range(0, len(weights))], \n",
    "            weights, \n",
    "            values, \n",
    "            [0.0] * len(weights), \n",
    "            [index for index, j in enumerate(weights)])\n",
    "    ]\n",
    "    # Sort the list of tuple in descending order using value per unit weight as sort key\n",
    "    results.sort(reverse=True, key=lambda x: x[0])\n",
    "    filled_capacity = 0.0\n",
    "    for i in range(0, len(weights)):\n",
    "        # Set termination condition\n",
    "        if abs(capacity - filled_capacity) < .0001:\n",
    "            break\n",
    "        # Determine the fraction of the item that can be loaded into knapsack\n",
    "        ratio = (capacity - filled_capacity) / results[i][1]\n",
    "        if ratio > 1.0:\n",
    "            ratio = 1.0\n",
    "        results[i] = tuple(\n",
    "            [results[i][0], \n",
    "             results[i][1], \n",
    "             results[i][2], \n",
    "             ratio,\n",
    "             results[i][4]])\n",
    "        filled_capacity += ratio * results[i][1]\n",
    "    return(results)\n",
    "            "
   ]
  },
  {
   "cell_type": "code",
   "execution_count": 62,
   "metadata": {},
   "outputs": [
    {
     "name": "stdout",
     "output_type": "stream",
     "text": [
      "[(4.0, 30, 120, 1.0, 2), (3.0, 20, 60, 1.0, 0), (2.0, 50, 100, 0.4, 1)]\n",
      "Maximum value of the knapsack = 220.00\n",
      "Details: \n",
      "1.00 of item 2\n",
      "1.00 of item 0\n",
      "0.40 of item 1\n"
     ]
    }
   ],
   "source": [
    "weights = [20, 50, 30]\n",
    "values = [60, 100, 120]\n",
    "max_capacity = 70\n",
    "results = fraction_knapsack(70, [20, 50, 30], [60, 100, 120])\n",
    "print(results)\n",
    "print(\"Maximum value of the knapsack = %0.2f\" % sum([x[3] * x[2] for x in results]))\n",
    "print(\"Details: \\n\" + '\\n'.join([\"%0.2f of item %d\" % (x[3], x[4]) for x in results]))"
   ]
  },
  {
   "cell_type": "markdown",
   "metadata": {},
   "source": [
    "## Maximum advertising revenue\n",
    "## Problem Introduction\n",
    "You have `n` ads to place on a popular Internet page. For each ad, you know how much is the advertiser willing to pay for one click on this ad. You have set up `n` slots on your page and estimated the expected number of clicks per day for each slot. Now, your goal is to distribute the ads among the slots to maximize the total revenue.\n",
    "## Problem Description\n",
    "### Task.\n",
    "Given two sequences $a_1, a_2, ...a_n$ ($a_i$ is the profit per click of the `i-th` ad) and $b_1, b_2,...b_n$ ($b_i$ is the average number of clicks per day of the `i-th` slot), we need to partition them into `n` pairs $(a_i, b_i)$ such that the sum of their products is maximized.\n",
    "### Input Format.\n",
    "The first line contains an integer `n`, the second one contains a sequence of integers $a_1, a_2, ... a_n$, the third one contains a sequence of integers $b_1, b_2,...b_n$.\n",
    "### Constraints.\n",
    "$1 \\leq n \\leq 10^2;−10^5 \\leq a_i, b_i \\leq 10^5 $ for all $1 \\leq i \\leq n$.\n",
    "### Output Format.\n",
    "Output the maximum value of $ \\sum_{i=1}^na_ic_i $, where $c_1, c_2, ...c_n$ is a permutation of $b_1, b_2, ...b_n$.\n",
    "#### Sample 1.\n",
    "##### Input:\n",
    "1\n",
    "\n",
    "23\n",
    "\n",
    "39\n",
    "##### Output:\n",
    "897\n",
    "\n",
    "897 = 23·39.\n",
    "##### Sample 2.\n",
    "##### Input:\n",
    "3\n",
    "\n",
    "1 3 -5\n",
    "\n",
    "-2 4 1\n",
    "##### Output:\n",
    "23\n",
    "\n",
    "23 = 3·4 + 1·1 + (−5)·(−2)"
   ]
  },
  {
   "cell_type": "code",
   "execution_count": 63,
   "metadata": {},
   "outputs": [
    {
     "name": "stdout",
     "output_type": "stream",
     "text": [
      "23\n"
     ]
    }
   ],
   "source": [
    "def max_dot_product(a, b):\n",
    "    a.sort(reverse=True)\n",
    "    b.sort(reverse=True)\n",
    "    return sum([a[i] * b[i]for i in range(0, len(a))])\n",
    "\n",
    "print(max_dot_product([1, 3, -5], [-2, 4, 1]))"
   ]
  },
  {
   "cell_type": "markdown",
   "metadata": {},
   "source": [
    "## Collecting Signatures\n",
    "\n",
    "## Problem Introduction\n",
    "You are responsible for collecting signatures from all tenants of a certain building. For each tenant, you know a period of time when he or she is at home.You would like to collect all signatures by visiting the building as few times as possible.The mathematical model for this problem is the following. You are given a set of segments on a line and your goal is to mark as few points on a line as possible so that each segment contains at least one marked point.\n",
    "## Problem Description\n",
    "### Task.\n",
    "Given a set of n segments {$[a_0, b_0],[a_1, b_1], . . . ,[a_{n-1}, b_{n-1}$]} with integer coordinates on a line, find the minimum number m of points such that each segment contains at least one point. That is, find a set of integers X of the minimum size such that for any segment $[a_i, b_i]$ there is a point $x \\epsilon X$ such that $a_i \\leq x \\leq b_i$.\n",
    "### Input Format.\n",
    "The first line of the input contains the number m of segments. Each of the following `n` lines contains two integers $a_i$ and $b_i$ (separated by a space) defining the coordinates of endpoints of the `i-th` segment.\n",
    "### Constraints.\n",
    "$1 \\leq n \\leq 100; 0 \\leq a_i \\leq b_i \\leq 10^9$ for all $0 \\leq i \\le n$.\n",
    "### Output Format.\n",
    "Output the minimum number `m` of points on the first line and the integer coordinates of `m` points (separated by spaces) on the second line. You can output the points in any order. If there are many such sets of points, you can output any set. (It is not difficult to see that there always exist a set of points of the minimum size such that all the coordinates of the points are integers.)\n",
    "#### Sample 1.\n",
    "##### Input:\n",
    "3\n",
    "1 3\n",
    "2 5\n",
    "3 6\n",
    "##### Output:\n",
    "1\n",
    "3\n",
    "In this sample, we have three segments: $[1,3],[2,5],[3,6]$ (of length 2,3,3 respectively). All of them contain the point with coordinate 3: $1 \\leq 3 \\leq 3,2 \\leq 3 \\leq 5,3 \\leq 3 \\leq 6$.\n",
    "#### Sample 2.\n",
    "##### Input:\n",
    "4\n",
    "4 7\n",
    "1 3\n",
    "2 5\n",
    "5 6\n",
    "##### Output:\n",
    "2\n",
    "3 6\n",
    "The second and the third segments contain the point with coordinate 3 while the first and the fourth segments contain the point with coordinate 6. All the four segments cannot be covered by a singlepoint, since the segments $[1,3]and[5,6]$ are disjoint."
   ]
  },
  {
   "cell_type": "code",
   "execution_count": 64,
   "metadata": {},
   "outputs": [],
   "source": [
    "Segment = namedtuple('Segment', 'start end')\n",
    "\n",
    "def optimal_points(segments):\n",
    "    # Sort the segments in ascending order of starting point\n",
    "    segments.sort(key=lambda x: x.start)\n",
    "    index = 0\n",
    "    points = []\n",
    "    while index < len(segments) - 1:\n",
    "        # Consider two neighboring segments and merge them together taking \n",
    "        # the maximum start time and min end time\n",
    "        s = Segment(max(segments[index].start, segments[index + 1].start), min(segments[index].end, segments[index + 1].end))\n",
    "        # If the segments are disjoint then the new segment will be invalid with end point\n",
    "        # lesser that starting point\n",
    "        if s.start > s.end:\n",
    "            # Select the end point of the segment if the next segment is a non-overlapping one\n",
    "            points.append(segments[index].end)\n",
    "        else:\n",
    "            # Otherwise overwrite the next segment definition with new one created above \n",
    "            # and repeat the loop\n",
    "            segments[index + 1] = s\n",
    "        index = index + 1\n",
    "    # If there is only one segment then pick up its starting point\n",
    "    points.append(segments[index].start)\n",
    "    return points\n"
   ]
  },
  {
   "cell_type": "code",
   "execution_count": 65,
   "metadata": {},
   "outputs": [
    {
     "name": "stderr",
     "output_type": "stream",
     "text": [
      "testWithThreeCompletelyNestSegements (__main__.TestCollectingSignatures) ... ok\n",
      "testWithThreeCompletelyNestSegementsAndOneDisjointOne (__main__.TestCollectingSignatures) ... ok\n",
      "testWithTwoCompletelyNestedSegmentsAndOneOverlappingOne (__main__.TestCollectingSignatures) ... ok\n",
      "testWithTwoSetsOfOverlappingSegments (__main__.TestCollectingSignatures) ... ok\n",
      "test_with_all_single_digit_numbers (__main__.TestPermutation) ... ok\n",
      "test_with_variable_digit_numbers (__main__.TestPermutation) ... ok\n",
      "\n",
      "----------------------------------------------------------------------\n",
      "Ran 6 tests in 0.004s\n",
      "\n",
      "OK\n"
     ]
    }
   ],
   "source": [
    "class TestCollectingSignatures(unittest.TestCase):\n",
    "    def _setup(self, data):\n",
    "        return list(map(lambda x: Segment(x[0], x[1]), zip(data[::2], data[1::2])))\n",
    "    \n",
    "    def testWithTwoSetsOfOverlappingSegments(self):\n",
    "        data = [1, 4, 2, 5, 6, 7, 7, 8]\n",
    "        self.assertEqual(optimal_points(self._setup(data)), [4, 7])\n",
    "        \n",
    "    def testWithThreeCompletelyNestSegementsAndOneDisjointOne(self):\n",
    "        data = [1, 19, 5, 12, 7, 22, 8, 10, 15, 16]\n",
    "        self.assertEqual(optimal_points(self._setup(data)), [10, 15])\n",
    "        \n",
    "    def testWithTwoCompletelyNestedSegmentsAndOneOverlappingOne(self):\n",
    "        data = [7, 12, 5, 11, 9, 15]\n",
    "        self.assertEqual(optimal_points(self._setup(data)), [9])\n",
    "    \n",
    "    def testWithThreeCompletelyNestSegements(self):\n",
    "        data = [1, 23, 5, 12, 8, 10]\n",
    "        self.assertEqual(optimal_points(self._setup(data)), [8])\n",
    "        \n",
    "unittest.main(argv=[''], verbosity=2, exit=False);"
   ]
  },
  {
   "cell_type": "markdown",
   "metadata": {},
   "source": [
    "## Maximizing the Number of Prize Places in a Competition\n",
    "### Problem Introduction\n",
    "You are organizing a funny competition for children. As a prize fund you have `n` candies. You would like to use these candies for top `k` places in a competition with a natural restriction that a higher place gets a larger number of candies. To make as many children happy as possible, you are going to find the largest value of `k` for which it is possible.\n",
    "### Problem Description\n",
    "### Task.\n",
    "The goal of this problem is to represent a given positive integer `n` as a sum of as many pairwise distinct positive integers as possible. That is, to find the maximum `k` such that `n` can be written as $a_1 + a_2 + ... + a_k$ where $a_1, a_2,..a_k$ are positive integers and \n",
    "### Input Format.\n",
    "The input consists of a single integer푛.\n",
    "### Constraints.\n",
    "$1 \\leq n \\leq 10^9$\n",
    "### Output Format.\n",
    "In the first line, output the maximum number `k` such that `n` can be represented as a sum of `k` pairwise distinct positive integers. In the second line, output `k` pairwise distinct positive integersthat sum up to  `n`(if there are many such representations, output any of them).\n",
    "### Sample 1.\n",
    "#### Input: \n",
    "6\n",
    "#### Output:\n",
    "3\n",
    "1 2 3\n",
    "### Sample 2.\n",
    "#### Input:\n",
    "8\n",
    "#### Output:\n",
    "3\n",
    "1 2 5\n",
    "### Sample 3.\n",
    "#### Input:\n",
    "2\n",
    "#### Output:\n",
    "1\n",
    "2"
   ]
  },
  {
   "cell_type": "markdown",
   "metadata": {},
   "source": [
    "Restating the comments that is already there in the code below -\n",
    "* Start with 1 \n",
    "* Increment the next prize amount by 1 at every stage\n",
    "* Check that remaining number of candies is at least 1 more than than the last prize amount\n",
    "* When that does not happen stop and add the balance to the last prize amount"
   ]
  },
  {
   "cell_type": "code",
   "execution_count": 66,
   "metadata": {},
   "outputs": [],
   "source": [
    "def optimal_summands(n):\n",
    "    summands = []\n",
    "    start = 1\n",
    "    # Start by assigning 1 to the smallest prize \n",
    "    # Keep incrementing every stage\n",
    "    # Everytime checking the residue must be bigger than\n",
    "    # last number generated\n",
    "    while n > 0:\n",
    "        summands.append(start)\n",
    "        n -= start\n",
    "        if n <= summands[-1]:\n",
    "            break\n",
    "        start += 1\n",
    "    summands[-1] += n\n",
    "    return summands"
   ]
  },
  {
   "cell_type": "code",
   "execution_count": 67,
   "metadata": {},
   "outputs": [
    {
     "name": "stdout",
     "output_type": "stream",
     "text": [
      "[1, 2, 3, 4]\n",
      "[1, 2, 3, 6]\n"
     ]
    }
   ],
   "source": [
    "print(optimal_summands(10))\n",
    "print(optimal_summands(12))"
   ]
  },
  {
   "cell_type": "markdown",
   "metadata": {},
   "source": [
    "## Maximizing Salary\n",
    "\n",
    "## Problem Introduction\n",
    "As the last question of a successful interview, your boss gives you a few pieces of paper with numbers on it and asks you to compose a largest number from these numbers. The resulting number is going to be your salary, so you are very much interested in maximizing this number. How can you do this?\n",
    "In the lectures, we considered the following algorithm for composing the largest number out of the given single-digit numbers. \n",
    "\n",
    "It is somewhat easy to generate the largest number when the given numbers are all single digited ones. Same algorithm does not work when the numbers in the list consists of different number of digits.\n",
    "\n",
    "For example, for an input consisting of two integers 23 and 3 (23 is not a single-digit number!) the correct answer is 323 and not 233. In other words, using the largest number from the input as the first numberis not a safe move. Your goal in this problem is to tweak the above algorithm so that it works not only for single-digit numbers, but for arbitrary positive integers.\n",
    "### Problem Description\n",
    "### Task.\n",
    "Compose the largest number out of a set of integers.\n",
    "### Input Format.\n",
    "The first line of the input contains an integer n. The second line contains integers $a_1, a_2,...,a_n$.\n",
    "### Constraints.\n",
    "$1 \\leq n \\leq 100; 1 \\leq a_i \\leq 10^3$ for all $1 \\leq i \\leq n$\n",
    "### Output Format.\n",
    "Output  the  largest  number  that  can  be  composed  out  of $a_1, a_2,...,a_n$.\n",
    "### Sample 1.\n",
    "#### Input:\n",
    "2\n",
    "21 2\n",
    "#### Output:\n",
    "221\n",
    "### Sample 2.\n",
    "#### Input:\n",
    "5\n",
    "9 4 6 1 9\n",
    "#### Output:\n",
    "99641\n",
    "### Sample 3.\n",
    "#### Input:\n",
    "3\n",
    "23 39 92\n",
    "#### Output:\n",
    "923923\n"
   ]
  },
  {
   "cell_type": "markdown",
   "metadata": {},
   "source": [
    "Just sorting the numbers is the descending order will not work here. For example froma list containing `[2, 21]`, largest number that can be formed is `221`. In this case `2` has to be placed before `21`"
   ]
  },
  {
   "cell_type": "code",
   "execution_count": 68,
   "metadata": {},
   "outputs": [],
   "source": [
    "def largest_number(numbers):\n",
    "    result = []\n",
    "    # Keep track of which numbers are already used\n",
    "    used = [False] * len(numbers)\n",
    "    count = 0\n",
    "    while count < len(numbers):\n",
    "        max_digit = None\n",
    "        pos_index = None\n",
    "        for index, n in enumerate(numbers):\n",
    "            # Skip the number if it is already used\n",
    "            if used[index]: continue\n",
    "            if max_digit is None:\n",
    "                max_digit = n\n",
    "                pos_index = index\n",
    "            else:\n",
    "                if is_greater(n, max_digit):\n",
    "                    max_digit = n\n",
    "                    pos_index = index\n",
    "        result.append(max_digit)\n",
    "        used[pos_index] = True\n",
    "        count += 1\n",
    "    return int(''.join(map(lambda x: str(x), result)))\n",
    "    "
   ]
  },
  {
   "cell_type": "markdown",
   "metadata": {},
   "source": [
    "Here is a method to check the above algorithm. \n",
    "\n",
    "* We will generate a list of 6 numbers. \n",
    "* Six numbers in the list are randomly generated with first 5 numbers are between the interval 1-250 and the last one between 1-20. \n",
    "* Two different intervals are chosen to make sure algorithm works for list of numbers with different number of digits.\n",
    "\n",
    "For every such list, we use a naive method to generate a list of all possible permutations from the given list and then take the maximum number from there. This is used as basis to validate the maximum number generated by the algorithm.\n",
    "\n",
    "Above steps are repeated ten thousand times. This is more of a stress test but helped me to generate large amount of random data and make sure that the algorithm does not break or even if it breaks, it helped me to troubleshoot effectively.\n"
   ]
  },
  {
   "cell_type": "markdown",
   "metadata": {},
   "source": [
    "Following is the recursive implementation of `permutation` function. It can be explained as follows:\n",
    "\n",
    "permutations(list) = each element of list + permutation(list - element)"
   ]
  },
  {
   "cell_type": "code",
   "execution_count": 69,
   "metadata": {},
   "outputs": [],
   "source": [
    "def permutation(nums):\n",
    "    if len(nums) <= 1:\n",
    "        return nums\n",
    "    results = []\n",
    "    for pos, n in enumerate(nums):\n",
    "        remaining = [x for i, x in enumerate(nums) if i != pos]\n",
    "        results.extend([int(str(n) + str(x)) for x in permutation(remaining)])\n",
    "    return results"
   ]
  },
  {
   "cell_type": "markdown",
   "metadata": {},
   "source": [
    "Unit testing of `permutation` function"
   ]
  },
  {
   "cell_type": "code",
   "execution_count": 70,
   "metadata": {},
   "outputs": [
    {
     "name": "stderr",
     "output_type": "stream",
     "text": [
      "testWithThreeCompletelyNestSegements (__main__.TestCollectingSignatures) ... ok\n",
      "testWithThreeCompletelyNestSegementsAndOneDisjointOne (__main__.TestCollectingSignatures) ... ok\n",
      "testWithTwoCompletelyNestedSegmentsAndOneOverlappingOne (__main__.TestCollectingSignatures) ... ok\n",
      "testWithTwoSetsOfOverlappingSegments (__main__.TestCollectingSignatures) ... ok\n",
      "test_with_all_single_digit_numbers (__main__.TestPermutation) ... ok\n",
      "test_with_variable_digit_numbers (__main__.TestPermutation) ... ok\n",
      "\n",
      "----------------------------------------------------------------------\n",
      "Ran 6 tests in 0.005s\n",
      "\n",
      "OK\n"
     ]
    }
   ],
   "source": [
    "import unittest\n",
    "\n",
    "class TestPermutation(unittest.TestCase):\n",
    "    def test_with_all_single_digit_numbers(self):\n",
    "        self.assertEqual(permutation([1, 3, 2]), [132, 123, 312, 321, 213, 231])\n",
    "    def test_with_variable_digit_numbers(self):\n",
    "        self.assertEqual(permutation([1, 30, 2]), [1302, 1230, 3012, 3021, 2130, 2301])\n",
    "\n",
    "unittest.main(argv=[''], verbosity=2, exit=False);"
   ]
  },
  {
   "cell_type": "code",
   "execution_count": 71,
   "metadata": {},
   "outputs": [],
   "source": [
    "for i in range(0, 10000):\n",
    "    nums = [random.randint(1, 250) for j in range(5)]\n",
    "    nums.append(random.randint(1, 20))\n",
    "    # Shuffle the list of numbers so numbers with different digits are mixed together\n",
    "    # This tests that the algorithm does not depend any specific ordering of the numbers\n",
    "    # in the list\n",
    "    random.shuffle(nums)\n",
    "    output = largest_number(nums)\n",
    "    expected = max(permutation(nums))\n",
    "    assert output == expected, \"List: %s Expected: %d Computed: %d\" % \\\n",
    "    ('[' + ','.join(map(lambda x: str(x), nums)) + ']', expected, output)\n",
    "                                                                       \n"
   ]
  },
  {
   "cell_type": "code",
   "execution_count": null,
   "metadata": {},
   "outputs": [],
   "source": []
  }
 ],
 "metadata": {
  "kernelspec": {
   "display_name": "Python 3",
   "language": "python",
   "name": "python3"
  },
  "language_info": {
   "codemirror_mode": {
    "name": "ipython",
    "version": 3
   },
   "file_extension": ".py",
   "mimetype": "text/x-python",
   "name": "python",
   "nbconvert_exporter": "python",
   "pygments_lexer": "ipython3",
   "version": "3.7.1"
  }
 },
 "nbformat": 4,
 "nbformat_minor": 2
}
