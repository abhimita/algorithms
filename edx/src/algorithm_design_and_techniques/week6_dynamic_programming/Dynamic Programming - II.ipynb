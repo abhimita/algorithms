{
 "cells": [
  {
   "cell_type": "markdown",
   "metadata": {},
   "source": [
    "<h1><center>Dynamic Programming - II</center></h1>\n",
    "\n",
    "### 0/1 Knapsack with replacement"
   ]
  },
  {
   "cell_type": "code",
   "execution_count": 99,
   "metadata": {},
   "outputs": [],
   "source": [
    "# This is knapsack with replacement which means we have an infinite source\n",
    "# of any item using which we are trying to fill the knapsack\n",
    "def zero_one_knapsack_with_replacement(value, weight, W):\n",
    "    result = [0] * (W + 1)\n",
    "    for w in range(1, W + 1):\n",
    "        for i in range(0, len(value)):\n",
    "            remaining_weight = w - weight[i]\n",
    "            if remaining_weight >= 0:\n",
    "                result[w] = max(result[w - weight[i]] + value[i], result[w]) \n",
    "    return result[-1]\n",
    "                "
   ]
  },
  {
   "cell_type": "code",
   "execution_count": 100,
   "metadata": {},
   "outputs": [
    {
     "data": {
      "text/plain": [
       "48"
      ]
     },
     "execution_count": 100,
     "metadata": {},
     "output_type": "execute_result"
    }
   ],
   "source": [
    "weight = [6, 3, 4, 2]\n",
    "value = [30, 14, 16, 9]\n",
    "zero_one_knapsack_with_replacement(value, weight, 10)"
   ]
  },
  {
   "cell_type": "markdown",
   "metadata": {},
   "source": [
    "### 0/1 Knapsack without replacement\n",
    "\n",
    "Assume that we have an optimal solution of this problem which is identified by `v(w, i - 1)` The notation indicates optimal value using `i - 1` elements having total weight of knapsack `w`. At this point we have two choices\n",
    "\n",
    "1. Include the i-th element $v(i - 1, w - w_{i}) + v_{i}$\n",
    "2. Don't include the i-th element $v(i - 1, w)$\n",
    "\n",
    "To get maximize the knapsack value, we need to take `max` of the two options\n",
    "\n",
    "$v(i, w) = max(v(i - 1, w - w_{i}) + v_{i}, v(i - 1, w))$\n"
   ]
  },
  {
   "cell_type": "code",
   "execution_count": 101,
   "metadata": {},
   "outputs": [],
   "source": [
    "import pprint as pp\n",
    "def zero_one_knapsack_without_replacement(value, weight, W):\n",
    "    weight.insert(0,0)\n",
    "    value.insert(0,0)\n",
    "    result = [[0 for j in range(0, W + 1)] for i in range(0, len(value))]\n",
    "    for i in range(1, len(value)):\n",
    "        for j in range(1, W + 1):\n",
    "            remaining_weight = j - weight[i]\n",
    "            if remaining_weight >= 0: \n",
    "                result[i][j] = max(result[i - 1][j], value[i] + result[i - 1][j - weight[i]])\n",
    "            else:\n",
    "                result[i][j] = result[i - 1][j]\n",
    "    return result[-1][-1]"
   ]
  },
  {
   "cell_type": "code",
   "execution_count": 102,
   "metadata": {},
   "outputs": [
    {
     "name": "stdout",
     "output_type": "stream",
     "text": [
      "46\n"
     ]
    }
   ],
   "source": [
    "weight = [6, 3, 4, 2]\n",
    "value = [30, 14, 16, 9]\n",
    "print(zero_one_knapsack_without_replacement(value, weight, 10))"
   ]
  },
  {
   "cell_type": "markdown",
   "metadata": {},
   "source": [
    "### Maximum amount of gold"
   ]
  },
  {
   "cell_type": "markdown",
   "metadata": {},
   "source": [
    "In this problem since the value of each gold bar is not specified so it is assumed that value is proportional to the weight of the bar. That way we pass `v` to be same as `w`"
   ]
  },
  {
   "cell_type": "code",
   "execution_count": 103,
   "metadata": {},
   "outputs": [
    {
     "name": "stdout",
     "output_type": "stream",
     "text": [
      "9\n"
     ]
    }
   ],
   "source": [
    "print(zero_one_knapsack_without_replacement([1, 4, 8], [1, 4, 8], 10))"
   ]
  },
  {
   "cell_type": "markdown",
   "metadata": {},
   "source": [
    "### Partitioning Souvenirs"
   ]
  },
  {
   "cell_type": "code",
   "execution_count": 104,
   "metadata": {},
   "outputs": [],
   "source": [
    "# Uses python3\n",
    "import sys\n",
    "import itertools\n",
    "\n",
    "def _partition3(array, n, a, b, c, lookup={}):\n",
    "    if a == 0 and b == 0 and c == 0:\n",
    "        return 1\n",
    "    if n < 0:\n",
    "        return 0\n",
    "    k = str(a) + '|' + str(b) + '|' + str(c) + '|' + str(n)\n",
    "\n",
    "    if k not in lookup:\n",
    "        first_included = 0\n",
    "        if array[n] <= a:\n",
    "            first_included = _partition3(array, n - 1, a - array[n], b, c, lookup)\n",
    "\n",
    "        second_included = 0\n",
    "        if not first_included and array[n] <= b:\n",
    "            second_included = _partition3(array, n - 1, a, b - array[n], c, lookup)\n",
    "\n",
    "        third_included = 0\n",
    "        if not first_included and not second_included and array[n] <= c:\n",
    "            third_included = _partition3(array, n - 1, a, b, c - array[n], lookup)\n",
    "        lookup[k] = first_included or second_included or third_included\n",
    "    return lookup[k] \n",
    "\n",
    "def partition3(A):\n",
    "    total = sum(A)\n",
    "    if total % 3 != 0:\n",
    "        return 0\n",
    "    return _partition3(A, len(A) - 1, total//3, total//3, total//3)\n"
   ]
  },
  {
   "cell_type": "code",
   "execution_count": 105,
   "metadata": {},
   "outputs": [
    {
     "data": {
      "text/plain": [
       "1"
      ]
     },
     "execution_count": 105,
     "metadata": {},
     "output_type": "execute_result"
    }
   ],
   "source": [
    "partition3([1, 2, 3, 4, 5, 5, 7, 7, 8, 10, 12, 19, 25])\n"
   ]
  },
  {
   "cell_type": "code",
   "execution_count": 106,
   "metadata": {},
   "outputs": [
    {
     "data": {
      "text/plain": [
       "0"
      ]
     },
     "execution_count": 106,
     "metadata": {},
     "output_type": "execute_result"
    }
   ],
   "source": [
    "partition3([3, 3, 6])"
   ]
  },
  {
   "cell_type": "code",
   "execution_count": null,
   "metadata": {},
   "outputs": [],
   "source": []
  }
 ],
 "metadata": {
  "kernelspec": {
   "display_name": "Python 3",
   "language": "python",
   "name": "python3"
  },
  "language_info": {
   "codemirror_mode": {
    "name": "ipython",
    "version": 3
   },
   "file_extension": ".py",
   "mimetype": "text/x-python",
   "name": "python",
   "nbconvert_exporter": "python",
   "pygments_lexer": "ipython3",
   "version": "3.7.4"
  }
 },
 "nbformat": 4,
 "nbformat_minor": 2
}
