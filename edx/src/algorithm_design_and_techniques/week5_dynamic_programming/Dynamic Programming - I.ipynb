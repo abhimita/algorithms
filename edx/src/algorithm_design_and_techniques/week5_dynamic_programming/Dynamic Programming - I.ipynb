{
 "cells": [
  {
   "cell_type": "markdown",
   "metadata": {},
   "source": [
    "## Dynamic programming - I\n",
    "\n",
    "### Problem: Money change again"
   ]
  },
  {
   "cell_type": "code",
   "execution_count": 1,
   "metadata": {},
   "outputs": [],
   "source": [
    "def get_change(value, coins=[1, 3, 4]):\n",
    "    changes = [float('inf')] * (value + 1)\n",
    "    changes[0] = 0\n",
    "    denominations = {}\n",
    "    for i in range(1, value + 1):\n",
    "        for j in range(0, len(coins)):\n",
    "            if i - coins[j] < 0: continue\n",
    "            changes[i] = min(changes[i], changes[i - coins[j]] + 1)\n",
    "    return(changes[-1])\n"
   ]
  },
  {
   "cell_type": "code",
   "execution_count": 2,
   "metadata": {},
   "outputs": [
    {
     "name": "stdout",
     "output_type": "stream",
     "text": [
      "5\n",
      "3\n"
     ]
    }
   ],
   "source": [
    "print(get_change(17, [1, 3, 4]))\n",
    "print(get_change(9, [1, 3, 4]))"
   ]
  },
  {
   "cell_type": "markdown",
   "metadata": {},
   "source": [
    "### Primitive calculator"
   ]
  },
  {
   "cell_type": "code",
   "execution_count": 5,
   "metadata": {},
   "outputs": [],
   "source": [
    "operations = [lambda x: x + 1, lambda x: x*2, lambda x: x*3]\n",
    "\n",
    "def optimal_sequence(n):\n",
    "    steps = [(float('inf'), -1)] * (n + 1)\n",
    "    steps[0] = steps[1] = (0, 0)\n",
    "\n",
    "    for i in range(1, n + 1):\n",
    "        for j in range(0, len(operations)):\n",
    "            index = operations[j](i)\n",
    "            if index > n:\n",
    "                continue\n",
    "            if steps[i][0] + 1 < steps[index][0]:\n",
    "                steps[index] = (steps[i][0] + 1, i)\n",
    "    numbers = []\n",
    "    numbers.append(n)\n",
    "    index = n\n",
    "    while index > 1:\n",
    "        numbers.append(steps[index][1])\n",
    "        index = steps[index][1]\n",
    "    return reversed(numbers)\n",
    "\n"
   ]
  },
  {
   "cell_type": "code",
   "execution_count": 6,
   "metadata": {},
   "outputs": [
    {
     "name": "stdout",
     "output_type": "stream",
     "text": [
      "4\n",
      "1 2 4 12 13 "
     ]
    }
   ],
   "source": [
    "sequence = list(optimal_sequence(13))\n",
    "print(len(sequence) - 1)\n",
    "for x in sequence:\n",
    "    print(x, end=' ')"
   ]
  },
  {
   "cell_type": "markdown",
   "metadata": {},
   "source": [
    "### Edit distance"
   ]
  },
  {
   "cell_type": "code",
   "execution_count": 14,
   "metadata": {},
   "outputs": [],
   "source": [
    "\n",
    "def edit_distance(x, y):\n",
    "    if len(x) == 0: \n",
    "        return len(y)\n",
    "    if len(y) == 0:\n",
    "        return len(x)\n",
    "    distance = ([[0 for j in range(0, len(x) + 1)] for i in range(0, len(y) + 1)])\n",
    "    for i in range(1, len(y) + 1):\n",
    "        distance[i][0] = i\n",
    "    for j in range(1, len(x) + 1):\n",
    "        distance[0][j] = j \n",
    "    for i in range(1, len(y) + 1):\n",
    "        for j in range(1, len(x) + 1):\n",
    "            diag = distance[i - 1][j - 1] + (0 if y[i - 1] == x[j - 1] else 1)\n",
    "            left = distance[i][j -1] + 1\n",
    "            top = distance[i - 1][j] + 1\n",
    "            distance[i][j] = min(diag, left, top)\n",
    "    print(distance)"
   ]
  },
  {
   "cell_type": "code",
   "execution_count": 15,
   "metadata": {},
   "outputs": [
    {
     "name": "stdout",
     "output_type": "stream",
     "text": [
      "[[0, 1, 2, 3, 4, 5, 6], [1, 1, 2, 3, 4, 5, 6], [2, 2, 2, 2, 3, 4, 5], [3, 3, 3, 3, 2, 3, 4], [4, 4, 4, 4, 3, 2, 3], [5, 4, 5, 5, 4, 3, 2]]\n"
     ]
    }
   ],
   "source": [
    "edit_distance('short', 'ports')"
   ]
  },
  {
   "cell_type": "code",
   "execution_count": 16,
   "metadata": {},
   "outputs": [
    {
     "name": "stdout",
     "output_type": "stream",
     "text": [
      "[[0, 1, 2, 3], [1, 0, 1, 2], [2, 1, 0, 1]]\n"
     ]
    }
   ],
   "source": [
    "edit_distance('abc', 'ab')"
   ]
  },
  {
   "cell_type": "markdown",
   "metadata": {},
   "source": [
    "### Longest common subsequence of two sequences (LCS)"
   ]
  },
  {
   "cell_type": "code",
   "execution_count": 17,
   "metadata": {},
   "outputs": [],
   "source": [
    "# Recursive LCS \n",
    "def longest_common_subsequence_recursive(x, y, m, n):\n",
    "    if m == 0 or n == 0: return 0\n",
    "    if x[m - 1] == y[n - 1]:\n",
    "        return longest_common_subsequence_recursive(x, y, m - 1, n - 1) + 1\n",
    "    else:\n",
    "        return max(longest_common_subsequence_recursive(x, y, m - 1, n), longest_common_subsequence_recursive(x, y, m, n - 1))\n",
    "\n",
    "def longest_common_subsequence(x, y):\n",
    "    row = [0] * (len(y) + 1)\n",
    "    d = []\n",
    "    for i in range(0, len(x) + 1):\n",
    "        d.append(row[0:])\n",
    "    for i in range(1, len(x) + 1):\n",
    "        for j in range(1, len(y) + 1):\n",
    "            diag = d[i - 1][j - 1] + (1 if x[i - 1] == y[j - 1] else 0)\n",
    "            d[i][j] = max(d[i - 1][j], d[i][j -1], diag)\n",
    "    return d[-1][-1]"
   ]
  },
  {
   "cell_type": "code",
   "execution_count": 18,
   "metadata": {},
   "outputs": [
    {
     "name": "stdout",
     "output_type": "stream",
     "text": [
      "2\n"
     ]
    }
   ],
   "source": [
    "print(longest_common_subsequence(\"2783\", \"5287\"))"
   ]
  },
  {
   "cell_type": "markdown",
   "metadata": {},
   "source": [
    "### Longest common subsequence of three sequences (LCS)"
   ]
  },
  {
   "cell_type": "code",
   "execution_count": 19,
   "metadata": {},
   "outputs": [],
   "source": [
    "def longest_common_subsequence_of_3_sequence(x, y, z):\n",
    "    for i in range(0, len(x) + 1):\n",
    "        for j in range(0, len(y) + 1):\n",
    "            d = [[[0 for k in range(0, len(z) + 1)] for j in range(0, len(y) + 1)] for i in range(0, len(x) + 1)]\n",
    "\n",
    "    for i in range(1, len(x) + 1):\n",
    "        for j in range(1, len(y) + 1):\n",
    "            for k in range(1, len(z) + 1):\n",
    "                diag = d[i - 1][j - 1][k - 1] + (1 if x[i - 1] == y[j - 1] and y[j - 1] == z[k - 1] else 0)\n",
    "                d[i][j][k] = max(d[i - 1][j][k], d[i][j -1][k], d[i][j][k - 1], diag)\n",
    "    return d[-1][-1][-1]"
   ]
  },
  {
   "cell_type": "code",
   "execution_count": 20,
   "metadata": {},
   "outputs": [
    {
     "name": "stdout",
     "output_type": "stream",
     "text": [
      "4\n"
     ]
    }
   ],
   "source": [
    "print(longest_common_subsequence_of_3_sequence(\"ABCBDAB\", \"BDCABA\", \"BADACB\"))"
   ]
  },
  {
   "cell_type": "code",
   "execution_count": null,
   "metadata": {},
   "outputs": [],
   "source": []
  }
 ],
 "metadata": {
  "kernelspec": {
   "display_name": "Python 3",
   "language": "python",
   "name": "python3"
  },
  "language_info": {
   "codemirror_mode": {
    "name": "ipython",
    "version": 3
   },
   "file_extension": ".py",
   "mimetype": "text/x-python",
   "name": "python",
   "nbconvert_exporter": "python",
   "pygments_lexer": "ipython3",
   "version": "3.7.4"
  }
 },
 "nbformat": 4,
 "nbformat_minor": 2
}
