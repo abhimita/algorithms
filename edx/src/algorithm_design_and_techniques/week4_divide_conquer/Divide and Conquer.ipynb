{
 "cells": [
  {
   "cell_type": "markdown",
   "metadata": {},
   "source": [
    "# <center>Divide and Conquer Algorithms<center>"
   ]
  },
  {
   "cell_type": "markdown",
   "metadata": {},
   "source": [
    "This Jupyer notebook contains several programmimg problems solved using divide and conquer strategy. Some of these problems are in the exercises listed under `Greedy Algorithm` chapter of edX course on `Algorithmic Design and Techniques`. Few others are part of the same online course but I decided to work them out independently to follow along with the class.\n",
    "\n",
    "## Binary Search\n",
    "\n",
    "### Problem Introduction\n",
    "In this problem, you will implement the binary search algorithm that allows searching very efficiently (even huge) lists, provided that the list is sorted.\n",
    "### Problem Description\n",
    "### Task.\n",
    "The goal in this code problem is to implement the binary search algorithm.\n",
    "### Input Format.\n",
    "The first line of the input contains an integer `n` and a sequence $a_0 \\lt a_1 \\lt ... \\lt a_{n-1}$ of `n` pairwise distinct positive integers in increasing order. The next line contains an integer `k` and `k` positive integers $b_0,b_1,...,b_{k-1}$.\n",
    "### Constraints.\n",
    "$1 \\leq n, k \\leq 10^4; 1 \\leq a_i \\leq 10^9$ for all $0 \\leq i \\le n$; $1 \\leq b_j \\leq 10^9$ for all $0 \\leq j \\le k$\n",
    "### Output Format.\n",
    "For all `i` from `0` to `k - 1`, output an index $0 \\leq j \\leq n - 1$ such that $a_j = b_i$ or −1 if there is no such index.\n",
    "#### Sample 1.\n",
    "Input:\n",
    "5 1 5 8 12 13\n",
    "5 8 1 23 1 11\n",
    "Output:\n",
    "2 0 -1 0 -1\n",
    "In this sample, we are given an increasing sequence $a_0 = 1, a_1 = 5, a_2 = 8, a_3 = 12, a_4 = 13$ of length five and five keys to search:8,1,23,1,11. We see that $a_2 = 8$ and $a_0 = 1$, but the keys 23 and 11 donot appear in the sequence `a`. For this reason, we output a sequence: 2,0,−1,0,−1\n"
   ]
  },
  {
   "cell_type": "code",
   "execution_count": 2,
   "metadata": {},
   "outputs": [],
   "source": [
    "import random\n",
    "import time\n",
    "import math\n",
    "\n",
    "def _binary_search_recursive(a, x, left, right):\n",
    "    if left > right:\n",
    "        return -1\n",
    "    else:\n",
    "        mid = (left + right) // 2\n",
    "        if a[mid] == x:\n",
    "            return mid\n",
    "        elif a[mid] > x:\n",
    "            return _binary_search_recursive(a, x, left, mid - 1)\n",
    "        else:\n",
    "            return _binary_search_recursive(a, x, mid + 1, right)\n",
    "\n",
    "def binary_search_recursive(a, x):\n",
    "    return _binary_search_recursive(a, x, 0, len(a) - 1)\n",
    "\n",
    "def binary_search_iterative(a, x):\n",
    "    left = 0\n",
    "    right = len(a) - 1\n",
    "    while left <= right:\n",
    "        mid = (left + right) // 2\n",
    "        if a[mid] == x:\n",
    "            return mid\n",
    "        elif a[mid] > x:\n",
    "            right = mid - 1\n",
    "        else:\n",
    "            left = mid + 1\n",
    "    return -1\n",
    "\n",
    "\n",
    "def linear_search(a, x):\n",
    "    for i in range(0, len(a)):\n",
    "        if a[i] == x:\n",
    "            return i\n",
    "    return -1\n"
   ]
  },
  {
   "cell_type": "code",
   "execution_count": 3,
   "metadata": {},
   "outputs": [],
   "source": [
    "# Repeat tests 100 times\n",
    "for i in range(0, 100):\n",
    "    # Seed random number generator\n",
    "    random.seed(time.time())\n",
    "    # Number of elements in the list\n",
    "    element_count = random.randint(1, math.pow(10, 2))\n",
    "    # Generate the list with random numbers - number of elements comes from previous step\n",
    "    number_list = random.sample(range(1, int(math.pow(10, 2)) + 1), element_count)\n",
    "    # Sort the list as it will be used in binary search\n",
    "    number_list.sort()\n",
    "    # Numbers from this list will be searched\n",
    "    lookup_list = random.sample(range(1, int(math.pow(10, 2)) + 1), element_count)\n",
    "    # Perform the search using binary search as well as linear search\n",
    "    assert([binary_search_iterative(number_list, e) for e in lookup_list] == \n",
    "           [linear_search(number_list, e) for e in lookup_list])\n",
    "    assert([binary_search_recursive(number_list, e) for e in lookup_list] == \n",
    "           [linear_search(number_list, e) for e in lookup_list])    "
   ]
  },
  {
   "cell_type": "markdown",
   "metadata": {},
   "source": [
    "## Majority Vote"
   ]
  },
  {
   "cell_type": "code",
   "execution_count": 117,
   "metadata": {},
   "outputs": [],
   "source": [
    "def majority_vote(vote, left, right):\n",
    "    if left == right:\n",
    "        return vote[left]\n",
    "    mid = (left + right) // 2\n",
    "    left_value = majority_vote(vote, left, mid)\n",
    "    right_value = majority_vote(vote, mid + 1, right)\n",
    "    if left_value == right_value:\n",
    "        return left_value\n",
    "    left_count = 0\n",
    "    for i in range(left, right + 1):\n",
    "        if vote[i] == left_value:\n",
    "            left_count += 1\n",
    "        if left_count > (right - left + 1) / 2:\n",
    "            return left_value\n",
    "    right_count = 0\n",
    "    for i in range(left, right + 1):\n",
    "        if vote[i] == right_value:\n",
    "            right_count += 1  \n",
    "        if right_count > (right - left + 1) / 2:\n",
    "            return right_value\n",
    "    return -1\n",
    "    "
   ]
  },
  {
   "cell_type": "code",
   "execution_count": 118,
   "metadata": {},
   "outputs": [
    {
     "data": {
      "text/plain": [
       "2"
      ]
     },
     "execution_count": 118,
     "metadata": {},
     "output_type": "execute_result"
    }
   ],
   "source": [
    "vote = [2, 3, 9, 2, 2]\n",
    "majority_vote(vote, 0, len(vote) - 1)"
   ]
  },
  {
   "cell_type": "code",
   "execution_count": 119,
   "metadata": {},
   "outputs": [
    {
     "data": {
      "text/plain": [
       "-1"
      ]
     },
     "execution_count": 119,
     "metadata": {},
     "output_type": "execute_result"
    }
   ],
   "source": [
    "vote = [2, 3, 2, 6, 1, 2]\n",
    "majority_vote(vote, 0, len(vote) - 1)"
   ]
  },
  {
   "cell_type": "code",
   "execution_count": 120,
   "metadata": {},
   "outputs": [
    {
     "data": {
      "text/plain": [
       "2"
      ]
     },
     "execution_count": 120,
     "metadata": {},
     "output_type": "execute_result"
    }
   ],
   "source": [
    "vote = [2, 3, 2, 6, 1, 2, 2]\n",
    "majority_vote(vote, 0, len(vote) - 1)"
   ]
  },
  {
   "cell_type": "markdown",
   "metadata": {},
   "source": [
    "## Polynomial multiplication\n",
    "\n",
    "Given two ploynomials \n",
    "\n",
    "$a_{2}x^2 + a_{1}x + a_{0}$ and $b_{2}x^2 + b_{1}x + b_{0}$\n",
    "\n",
    "We need to produce the coeffcients of the resultant ploynomials after multiplying the two. To keep the problem simple we assume that polynomials are of same degree. If they are not, then the polynomial will lesser degree will padded with zeroes for the missing terms.\n",
    "\n",
    "Coeffcient array of first polynomial: $[a_2, a_1, a_0]$\n",
    "Coeffcient array of first polynomial: $[b_2, b_1, b_0]$\n",
    "\n",
    "Resulting polynomial will be of degree 4 having coeffcient array as: \n",
    "$[a_2 * b_2, a_1 * b_2 + a_2 * b_1, a_0 * b_2 + a_1 * b_1 + a_2 * b_0, a_0 * b_1 + a_1 * b_0 + a_0 * b_0]$\n"
   ]
  },
  {
   "cell_type": "code",
   "execution_count": 9,
   "metadata": {},
   "outputs": [
    {
     "data": {
      "text/plain": [
       "[4, 11, 20, 30, 20, 11, 4]"
      ]
     },
     "execution_count": 9,
     "metadata": {},
     "output_type": "execute_result"
    }
   ],
   "source": [
    "# a & b are two lists containing the coeffcients of two polynomials to be multiplied\n",
    "def polynomial_multiplication_naive(a, b):\n",
    "    c = [0] * (len(a) + len(b) - 1)\n",
    "    for i in range(0, len(a)):\n",
    "        for j in range(0, len(b)):\n",
    "            c[i + j] = c[i + j] + a[i] * b[j]\n",
    "    return c\n",
    "\n",
    "polynomial_multiplication_naive([4, 3, 2, 1], [1, 2, 3, 4])\n",
    "                                    \n",
    "            "
   ]
  },
  {
   "cell_type": "code",
   "execution_count": 107,
   "metadata": {},
   "outputs": [
    {
     "data": {
      "text/plain": [
       "array([35, 12,  1])"
      ]
     },
     "execution_count": 107,
     "metadata": {},
     "output_type": "execute_result"
    }
   ],
   "source": [
    "import numpy as np\n",
    "\n",
    "# Use of numpy array is required as the operation requires setting array values are \n",
    "# specific position using + operator rather than regular python list which would \n",
    "# have appended two lists\n",
    "\n",
    "def polynomial_multiplication_recursion(a, b, n, i, j):\n",
    "    c = np.zeros(2*n - 1, dtype=int)\n",
    "    if n == 1:\n",
    "        c[0] = a[i] * b[j]\n",
    "        return c\n",
    "    c[0:n - 1] = polynomial_multiplication_recursion(a, b, n // 2, i, j)\n",
    "    c[n:2*n - 1]= polynomial_multiplication_recursion(a, b, n // 2, i + (n // 2), j + (n // 2))\n",
    "    w = polynomial_multiplication_recursion(a, b, n // 2, i + (n // 2), j)\n",
    "    v = polynomial_multiplication_recursion(a, b, n // 2, i, j + (n // 2))\n",
    "    c[(n // 2) : (3 * n // 2) - 1] += (w + v)\n",
    "    return c\n",
    "\n",
    "def filter_zeroes(c):\n",
    "    return np.trim_zeros(c, 'f')\n",
    "\n",
    "polynomial_multiplication_recursion([5, 1], [7, 1], 2, 0, 0)\n",
    "\n",
    "\n"
   ]
  },
  {
   "cell_type": "markdown",
   "metadata": {},
   "source": [
    "The algorithm makes some over simplification assuming number of terms in both polynomial is a multiple of 2. To multiple two polynomials having odd number of terms arrays `a` and `b` need to be appened with zeroes.\n",
    "\n",
    "$A(x) = 5 + x + 3x^2$\n",
    "$B(x) = 7 + 2x + x^2$\n",
    "\n",
    "Need to be invoked as \n",
    "```\n",
    "polynomial_multiplication_recursion([0, 5, 1, 3], [0, 7, 2, 1,], 4, 0, 0)\n",
    "```"
   ]
  },
  {
   "cell_type": "code",
   "execution_count": 108,
   "metadata": {},
   "outputs": [
    {
     "data": {
      "text/plain": [
       "array([35, 17, 28,  7,  3])"
      ]
     },
     "execution_count": 108,
     "metadata": {},
     "output_type": "execute_result"
    }
   ],
   "source": [
    "filter_zeroes(polynomial_multiplication_recursion([0, 5, 1, 3], [0, 7, 2, 1,], 4, 0, 0))"
   ]
  },
  {
   "cell_type": "markdown",
   "metadata": {},
   "source": [
    "## Inversion Count"
   ]
  },
  {
   "cell_type": "code",
   "execution_count": 4,
   "metadata": {},
   "outputs": [],
   "source": [
    "\n",
    "def naive_inversion_count(numbers):\n",
    "    inversions = 0\n",
    "    for j in range(1, len(numbers)):\n",
    "        for i in range(0, j):\n",
    "            if numbers[j] <= numbers[i]:\n",
    "                inversions += 1\n",
    "    return(inversions)\n",
    "\n",
    "def inversion_count_using_merge_sort(numbers):\n",
    "    if len(numbers) <= 1:\n",
    "        return numbers, 0\n",
    "    mid = len(numbers) // 2\n",
    "    # For a sorted array, inversion count is zero\n",
    "    # Assume the array is not sorted. An example is [3, 2, 1]\n",
    "    # Left half is [3] and right half is [2, 1]\n",
    "    # During the merge stage of [2] & [1], element pointed by left pointer is more than \n",
    "    # than the element pointed by right pointer.Left pointer points to an inversion \n",
    "    # point now. So every element in the left array following inversion points \n",
    "    # need to be accounted for in inversion count\n",
    "    left_half, left_inv = inversion_count_using_merge_sort(numbers[:mid])\n",
    "    right_half, right_inv = inversion_count_using_merge_sort(numbers[mid:])\n",
    "    return merge(left_half, right_half, left_inv + right_inv)\n",
    "\n",
    "# Merge left and right halves\n",
    "def merge(left, right, inversion_count):\n",
    "    result = []\n",
    "    left_index = right_index = 0\n",
    "    while left_index < len(left) and right_index < len(right):\n",
    "        if left[left_index] < right[right_index]:\n",
    "            result.append(left[left_index])\n",
    "            left_index += 1\n",
    "        else:\n",
    "            result.append(right[right_index])\n",
    "            right_index += 1\n",
    "            inversion_count += (len(left) - left_index)\n",
    "    result.extend(right[right_index:])\n",
    "    result.extend(left[left_index:])\n",
    "    return result, inversion_count\n"
   ]
  },
  {
   "cell_type": "code",
   "execution_count": 10,
   "metadata": {},
   "outputs": [
    {
     "name": "stdout",
     "output_type": "stream",
     "text": [
      "([1, 2, 3, 4], 6)\n"
     ]
    }
   ],
   "source": [
    "print(inversion_count_using_merge_sort([4, 3, 2, 1]))\n"
   ]
  },
  {
   "cell_type": "markdown",
   "metadata": {},
   "source": [
    "## Quick Sort\n",
    "\n",
    "It is sorting technique that uses divide and conquer in a recursive way. The steps involve:\n",
    "\n",
    "* If number of elements in the list (S) is less than or equal to one, then return\n",
    "* Pick an element v in the list S. This element is called the pivot.\n",
    "* Partition S into two sets $S_1$ and $S_2$ such that $S_1$ = {$x  \\varepsilon S | x \\leq v$} and $S_2$ = {$x \\varepsilon S - ${v} | $x \\gt v$ } \n",
    "* Recursively call quicksort for $S_1$ and $S_2$\n",
    "\n",
    "So quicksort involves\n",
    "* Choosing the pivot\n",
    "* Partition the array\n",
    "* Call quicksort with left and right halves"
   ]
  },
  {
   "cell_type": "code",
   "execution_count": 11,
   "metadata": {},
   "outputs": [],
   "source": [
    "import random\n",
    "\n",
    "\"\"\"\n",
    "Pick an element at random to be the pivot\n",
    "Swap that element with the element at index = 0\n",
    "\"\"\"\n",
    "def randomize_pivot(numbers, left, right):\n",
    "    pivot_position = random.choice([k for k in range(left, right + 1)])\n",
    "    numbers[pivot_position], numbers[left] = numbers[left], numbers[pivot_position]\n",
    "    return numbers[left]\n",
    "\"\"\"\n",
    "Input:\n",
    "    numbers: List of numbers\n",
    "    left: Left bounary of the array\n",
    "    right: right boundary of the array\n",
    "    pivot_position: Index of the element to be used as pivot\n",
    "\"\"\"\n",
    "def partition(numbers, left, right):\n",
    "    pivot = randomize_pivot(numbers, left, right)\n",
    "    i = left\n",
    "    j = left + 1\n",
    "    while j <= right:\n",
    "        if numbers[j] <= pivot:\n",
    "            i += 1\n",
    "            numbers[i], numbers[j] = numbers[j], numbers[i]\n",
    "        j += 1\n",
    "    numbers[i], numbers[left] = numbers[left], numbers[i]\n",
    "    return i\n",
    "        \n",
    "def quick_sort(numbers, left, right):\n",
    "    if right - left <= 0:\n",
    "        return numbers\n",
    "    mid = partition(numbers, left, right)\n",
    "    quick_sort(numbers, left, mid - 1)\n",
    "    quick_sort(numbers, mid + 1, right)\n",
    "    return numbers\n"
   ]
  },
  {
   "cell_type": "code",
   "execution_count": 12,
   "metadata": {},
   "outputs": [],
   "source": [
    "for i in range(1, 10000):\n",
    "    count = random.randint(1, 1000)\n",
    "    numbers = random.choices([j for j in range(0, 500)], k=count)\n",
    "    sorted_numbers = quick_sort(numbers, 0, len(numbers) - 1)\n",
    "    assert(sorted_numbers == sorted(numbers))"
   ]
  },
  {
   "cell_type": "code",
   "execution_count": 13,
   "metadata": {},
   "outputs": [],
   "source": [
    "import random\n",
    "\n",
    "def three_way_partition(numbers, left, right):\n",
    "    pivot = randomize_pivot(numbers, left, right)\n",
    "    i = j = left\n",
    "    k = right\n",
    "    # Start from two ends of the array\n",
    "    # Objective is to have all elements less than pivot to be in the left subarray pointed by i - 1\n",
    "    # and all elements greater than pivot to be in the right subarray pointed by k + 1\n",
    "    while j <= k: # Continue swapping elements till pointers from left and right don't cross over\n",
    "        # if the element is less than pivot element then swap it with the element pointed by i\n",
    "        # Advance i & j\n",
    "        if numbers[j] < pivot:\n",
    "            numbers[j], numbers[i] = numbers[i], numbers[j]\n",
    "            i += 1\n",
    "            j += 1\n",
    "        # If the element is greater than pivot then swap it with element pointed to by k (right subarray)\n",
    "        # Decrement k\n",
    "        # This may bring in an element having value lower than pivot to the position pointed by j\n",
    "        # So we don't increment j in this case\n",
    "        elif numbers[j] > pivot:\n",
    "            numbers[j], numbers[k] = numbers[k], numbers[j]\n",
    "            k -= 1\n",
    "        else:\n",
    "            j += 1\n",
    "    return i, k\n",
    "\n",
    "\n",
    "def quick_sort_using_3_way_partition(numbers, left, right):\n",
    "    if right - left <= 0:\n",
    "        return numbers\n",
    "    low_half, mid_half = three_way_partition(numbers, left, right)\n",
    "    quick_sort_using_3_way_partition(numbers, left, low_half - 1)\n",
    "    quick_sort_using_3_way_partition(numbers, mid_half + 1 , right)\n",
    "    return numbers\n"
   ]
  },
  {
   "cell_type": "code",
   "execution_count": 14,
   "metadata": {},
   "outputs": [],
   "source": [
    "for i in range(1, 10000):\n",
    "    count = random.randint(1, 1000)\n",
    "    numbers = random.choices([j for j in range(0, 51)], k=count)\n",
    "    sorted_numbers = quick_sort_using_3_way_partition(numbers, 0, len(numbers) - 1)\n",
    "    assert(sorted_numbers == sorted(numbers))"
   ]
  },
  {
   "cell_type": "markdown",
   "metadata": {},
   "source": [
    "## Organizing Lottery\n",
    "\n",
    "Please refer to the PDF document in the current directory for actual problem description. In this problem we need given number of lime segments (start and end points) and a set of points. For every point we need to find out the count of line segment in which in it appears.\n",
    "\n",
    "For example, the line segments are\n",
    "1. (0,5)\n",
    "2. (7,10)\n",
    "\n",
    "The given points are `1, 6, 11`\n",
    "\n",
    "Expected output is `[1, 0, 0]` as `1` is in the segment `(0,5)` while the other points are not included in any one of the segments"
   ]
  },
  {
   "cell_type": "code",
   "execution_count": 17,
   "metadata": {},
   "outputs": [],
   "source": [
    "import sys\n",
    "\n",
    "def fast_count_segments(starts, ends, points):\n",
    "    BEGIN, POINT, END = range(3)\n",
    "    # Combine the list of start, end points and the given points\n",
    "    # A point is qualified as BEGIN if it comes from starting point of a line segment\n",
    "    # A point is qualified as END if it comes from ending point of a line segment\n",
    "    # A point coming from the given set of points is qualfied as POINT\n",
    "    # These three enumerations are assigned values 0, 1, 2 for START, POINT & END respectively\n",
    "    sorted_points = [(s, BEGIN) for s in starts] + [(e, END) for e in ends] + [(p, POINT, index) for index, p in enumerate(points)]\n",
    "    # List is sorted based on combo key (value, enumerated type)\n",
    "    # If a point lies  between a line segment, that point will appear in between start and end point of the line\n",
    "    # segment after the list gets sorted\n",
    "    # List of given points = (1, 7, 11)\n",
    "    # Line segments = 0-5, 1-6, 7-9\n",
    "    # Before sorting the list looks like:\n",
    "    # [(0, BEGIN), (1, BEGIN), (7, BEGIN), (5, END), (6, END), (9, END), (1, POINT), (7, POINT), (11, POINT) ]\n",
    "    # After sorting:\n",
    "    # [(0, BEGIN), (1, BEGIN), (1, POINT), (7, BEGIN), (5, END), (6, END), (7, POINT), (9, END), (11, POINT)]\n",
    "    sorted_points.sort(key=lambda x: (x[0], x[1]))\n",
    "    segment_count = 0\n",
    "    cnt = [0] * len(points)\n",
    "    for i in range(0, len(sorted_points)):\n",
    "        if sorted_points[i][1] == BEGIN:\n",
    "            segment_count += 1\n",
    "        elif sorted_points[i][1] == END:\n",
    "            segment_count -= 1\n",
    "        else:\n",
    "            cnt[sorted_points[i][2]] += segment_count\n",
    "    return cnt\n",
    "\n",
    "def naive_count_segments(starts, ends, points):\n",
    "    cnt = [0] * len(points)\n",
    "    for i in range(len(points)):\n",
    "        for j in range(len(starts)):\n",
    "            if starts[j] <= points[i] <= ends[j]:\n",
    "                cnt[i] += 1\n",
    "    return cnt\n",
    "\n"
   ]
  },
  {
   "cell_type": "code",
   "execution_count": 19,
   "metadata": {},
   "outputs": [
    {
     "name": "stdout",
     "output_type": "stream",
     "text": [
      "2 1 0 "
     ]
    }
   ],
   "source": [
    "for x in fast_count_segments([0, 1, 7], [5, 6, 9], [1, 7, 11]):\n",
    "    print(x, end=' ')"
   ]
  },
  {
   "cell_type": "markdown",
   "metadata": {},
   "source": [
    "## Find closest pair of points"
   ]
  },
  {
   "cell_type": "code",
   "execution_count": null,
   "metadata": {},
   "outputs": [],
   "source": [
    "#Uses python3\n",
    "import sys\n",
    "from math import hypot\n",
    "from bisect import bisect_left, bisect_right\n",
    "\n",
    "def distance(p1, p2):\n",
    "    return hypot(p1[0] - p2[0], p1[1] - p2[1])\n",
    "\n",
    "def naive_minimum_distance(points, left, right):\n",
    "    min_distance = float(\"inf\")\n",
    "    for i in range(left, right):\n",
    "        for j in range(i + 1, right + 1):\n",
    "            d = distance(points[i], points[j])\n",
    "            if min_distance > d:\n",
    "                min_distance = d\n",
    "    return min_distance\n",
    "   \n",
    "def minimum_distance(point_x, point_y):\n",
    "    points = sorted([p for p in zip(point_x, point_y)], key=lambda x: x[0])\n",
    "    points_x = [x[0] for x in points]\n",
    "\n",
    "    def _minimum_distance(left, right):\n",
    "        # If there are 3 of less points then calculate minimum distance by brute force method\n",
    "        if right - left <= 2:\n",
    "            calc_distance = naive_minimum_distance(points, left, right)\n",
    "            return calc_distance\n",
    "        else:\n",
    "            # Divide into two half. Compute min distance in both halves recursively\n",
    "            mid = (left + right) // 2\n",
    "            left_value = _minimum_distance(left, mid)\n",
    "            right_value = _minimum_distance(mid + 1, right)\n",
    "            # Compute the upper bound by taking min distance obtained from left and right half\n",
    "            d = min(left_value, right_value)\n",
    "            # What did we miss out? The minimum distance may be produced by two points lying on the\n",
    "            # opposite sides of the middle line\n",
    "            mid_x = points[mid][0]\n",
    "            left_strip_bound = bisect_left(points_x, mid_x - d, left, mid)\n",
    "            right_strip_bound = bisect_right(points_x, mid_x + d, mid, right)\n",
    "            # Determine the suset of points whose x coordinate is within distance d from vertical line\n",
    "            # Next step produces a list of all points on the right half that is at distance < d from vertical line\n",
    "            strip = sorted(points[mid + 1:right_strip_bound + 1], key=lambda x: x[1])\n",
    "            strip_y = [y for y in map(lambda x: x[1], strip)]\n",
    "            # Left hand side of the strip. We need to be careful about boundary conditions. Left side will span from\n",
    "            # left_strip_bound -> mid + 1 so as to include the point(s) on the vertical. Those points if there is any\n",
    "            # falls in left half of the strip to be in accordance with\n",
    "            # mid = (left + right) // 2\n",
    "            # left_value = _minimum_distance(left, mid) - here mid values are included in left half\n",
    "            for p in points[left_strip_bound:mid + 1]:\n",
    "                i = bisect_left(strip_y, p[1] - d)\n",
    "                j = bisect_right(strip_y, p[1] + d)\n",
    "                for q in strip[i:j]:\n",
    "                    d = min(d, distance(p, q))\n",
    "            return d\n",
    "    return _minimum_distance(0, len(points) - 1)\n",
    "   \n",
    "if __name__ == '__main__':\n",
    "    input = sys.stdin.read()\n",
    "    data = list(map(int, input.split()))\n",
    "    n = data[0]\n",
    "    x = data[1::2]\n",
    "    y = data[2::2]\n",
    "    print(\"{0:.9f}\".format(minimum_distance(x, y)))\n"
   ]
  }
 ],
 "metadata": {
  "kernelspec": {
   "display_name": "Python 3",
   "language": "python",
   "name": "python3"
  },
  "language_info": {
   "codemirror_mode": {
    "name": "ipython",
    "version": 3
   },
   "file_extension": ".py",
   "mimetype": "text/x-python",
   "name": "python",
   "nbconvert_exporter": "python",
   "pygments_lexer": "ipython3",
   "version": "3.7.4"
  }
 },
 "nbformat": 4,
 "nbformat_minor": 2
}
